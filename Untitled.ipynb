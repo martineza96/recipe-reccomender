{
 "cells": [
  {
   "cell_type": "code",
   "execution_count": null,
   "metadata": {},
   "outputs": [],
   "source": []
  },
  {
   "cell_type": "code",
   "execution_count": 1,
   "metadata": {},
   "outputs": [],
   "source": [
    "import pandas as pd\n",
    "import os \n",
    "import ast\n",
    "import sentence_transformers  #### This is the package which we will use for encoding recipes using pretrained embedding\n",
    "import matplotlib.pyplot as plt \n",
    "#import networkx as nx #### Network x will be used to create graph based algorithms\n",
    "import pickle ### We will use pickleto save files for later access\n",
    "from sentence_transformers import SentenceTransformer\n",
    "from sklearn.metrics.pairwise import cosine_similarity ### Cosine Similary\n",
    "from scipy import sparse ### Sparse Matrix\n",
    "model = SentenceTransformer('bert-large-nli-stsb-mean-tokens') ### We will use this senetnce encodings"
   ]
  },
  {
   "cell_type": "code",
   "execution_count": 2,
   "metadata": {},
   "outputs": [],
   "source": [
    "interactions = pd.read_csv('data/RAW_interactions.csv')\n",
    "recipes = pd.read_csv('data/RAW_recipes.csv')"
   ]
  },
  {
   "cell_type": "code",
   "execution_count": 3,
   "metadata": {},
   "outputs": [],
   "source": [
    "g = {'rating' : ['mean'],'user_id' : ['nunique']}\n",
    "int_summary = interactions.groupby(['recipe_id']).agg(g).reset_index()\n",
    "### Its gives a muti index output convert it to single index by cobining bothe level\n",
    "ind = pd.Index([e[0] + \"_\" +e[1] for e in int_summary.columns.tolist()])\n",
    "### Assign the column names \n",
    "int_summary.columns = ind\n",
    "int_summary.columns = ['recipe_id', 'rating_mean', 'user_id_nunique']\n",
    "### We will keep only those recipes in considerstaion which have been reviewed by more than 2 people\n",
    "int_summary_94k = int_summary[ (int_summary['user_id_nunique'] > 2)]"
   ]
  },
  {
   "cell_type": "code",
   "execution_count": 4,
   "metadata": {},
   "outputs": [],
   "source": [
    "filter_recipe = pd.merge(recipes,int_summary_94k,right_on = ['recipe_id'],left_on = ['id'],how = 'inner')"
   ]
  },
  {
   "cell_type": "code",
   "execution_count": 5,
   "metadata": {},
   "outputs": [],
   "source": [
    "test_df = filter_recipe.copy()\n",
    "#test_df['calories'] = test_df['nutrition']\n",
    "test_df['calories'] = test_df['nutrition'].map(lambda x: ast.literal_eval(x)[0])\n",
    "test_df['total fat'] = test_df['nutrition'].map(lambda x: ast.literal_eval(x)[1])\n",
    "test_df['sugar'] = test_df['nutrition'].map(lambda x: ast.literal_eval(x)[2])\n",
    "test_df['sodium'] = test_df['nutrition'].map(lambda x: ast.literal_eval(x)[3])\n",
    "test_df['protien'] = test_df['nutrition'].map(lambda x: ast.literal_eval(x)[4])\n",
    "test_df['saturated fat'] = test_df['nutrition'].map(lambda x: ast.literal_eval(x)[5])\n",
    "test_df['carbohydrates'] = test_df['nutrition'].map(lambda x: ast.literal_eval(x)[6])"
   ]
  },
  {
   "cell_type": "code",
   "execution_count": 6,
   "metadata": {},
   "outputs": [],
   "source": [
    "test_df['dish_recipe'] = filter_recipe['steps'].apply(lambda x : \" \".join(ast.literal_eval(x)))"
   ]
  },
  {
   "cell_type": "code",
   "execution_count": 7,
   "metadata": {},
   "outputs": [],
   "source": [
    "df2 = test_df.sample(90000).drop_duplicates()\n",
    "df2.reset_index(inplace=True)\n",
    "df2.drop('index',axis=1,inplace=True)"
   ]
  },
  {
   "cell_type": "code",
   "execution_count": null,
   "metadata": {},
   "outputs": [
    {
     "data": {
      "application/vnd.jupyter.widget-view+json": {
       "model_id": "e9a4e72b46d34e58a56ae03c3438a545",
       "version_major": 2,
       "version_minor": 0
      },
      "text/plain": [
       "HBox(children=(HTML(value='Batches'), FloatProgress(value=0.0, max=2813.0), HTML(value='')))"
      ]
     },
     "metadata": {},
     "output_type": "display_data"
    }
   ],
   "source": [
    "encodings_recipe = model.encode(df2['dish_recipe'])"
   ]
  },
  {
   "cell_type": "code",
   "execution_count": null,
   "metadata": {},
   "outputs": [],
   "source": [
    "pickle.dump(encodings_recipe,open(\"recipe_embedding.pickle\",'wb'))"
   ]
  },
  {
   "cell_type": "code",
   "execution_count": null,
   "metadata": {},
   "outputs": [],
   "source": []
  },
  {
   "cell_type": "code",
   "execution_count": null,
   "metadata": {},
   "outputs": [],
   "source": []
  }
 ],
 "metadata": {
  "instance_type": "ml.g4dn.xlarge",
  "kernelspec": {
   "display_name": "Python 3 (PyTorch 1.6 Python 3.6 GPU Optimized)",
   "language": "python",
   "name": "python3__SAGEMAKER_INTERNAL__arn:aws:sagemaker:us-east-1:081325390199:image/pytorch-1.6-gpu-py36-cu110-ubuntu18.04-v3"
  },
  "language_info": {
   "codemirror_mode": {
    "name": "ipython",
    "version": 3
   },
   "file_extension": ".py",
   "mimetype": "text/x-python",
   "name": "python",
   "nbconvert_exporter": "python",
   "pygments_lexer": "ipython3",
   "version": "3.6.10"
  }
 },
 "nbformat": 4,
 "nbformat_minor": 4
}
