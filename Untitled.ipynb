{
  "nbformat": 4,
  "nbformat_minor": 0,
  "metadata": {
    "instance_type": "ml.g4dn.xlarge",
    "kernelspec": {
      "display_name": "Python 3 (PyTorch 1.6 Python 3.6 GPU Optimized)",
      "language": "python",
      "name": "python3__SAGEMAKER_INTERNAL__arn:aws:sagemaker:us-east-1:081325390199:image/pytorch-1.6-gpu-py36-cu110-ubuntu18.04-v3"
    },
    "language_info": {
      "codemirror_mode": {
        "name": "ipython",
        "version": 3
      },
      "file_extension": ".py",
      "mimetype": "text/x-python",
      "name": "python",
      "nbconvert_exporter": "python",
      "pygments_lexer": "ipython3",
      "version": "3.6.10"
    },
    "colab": {
      "name": "Untitled.ipynb",
      "provenance": []
    }
  },
  "cells": [
    {
      "cell_type": "code",
      "metadata": {
        "colab": {
          "base_uri": "https://localhost:8080/"
        },
        "id": "UxjsWTHMggyO",
        "outputId": "060bb29a-c273-4d40-a283-eab20b279747"
      },
      "source": [
        "from google.colab import drive\n",
        "drive.mount('/content/drive')"
      ],
      "execution_count": 4,
      "outputs": [
        {
          "output_type": "stream",
          "text": [
            "Mounted at /content/drive\n"
          ],
          "name": "stdout"
        }
      ]
    },
    {
      "cell_type": "code",
      "metadata": {
        "colab": {
          "base_uri": "https://localhost:8080/"
        },
        "id": "xHZcFLNZhrp7",
        "outputId": "6140a97b-9cf3-4ba1-b893-383827db368f"
      },
      "source": [
        "cd drive/MyDrive/Capstone\\ 3"
      ],
      "execution_count": 6,
      "outputs": [
        {
          "output_type": "stream",
          "text": [
            "/content/drive/MyDrive/Capstone 3\n"
          ],
          "name": "stdout"
        }
      ]
    },
    {
      "cell_type": "code",
      "metadata": {
        "id": "hToCb2WeggyS"
      },
      "source": [
        "import pandas as pd\n",
        "import os \n",
        "import ast\n",
        "#import sentence_transformers  #### This is the package which we will use for encoding recipes using pretrained embedding\n",
        "import matplotlib.pyplot as plt \n",
        "#import networkx as nx #### Network x will be used to create graph based algorithms\n",
        "import pickle ### We will use pickleto save files for later access\n",
        "#from sentence_transformers import SentenceTransformer\n",
        "from sklearn.metrics.pairwise import cosine_similarity ### Cosine Similary\n",
        "from scipy import sparse ### Sparse Matrix\n",
        "#model = SentenceTransformer('bert-large-nli-stsb-mean-tokens') ### We will use this senetnce encodings\n",
        "import numpy as np"
      ],
      "execution_count": 44,
      "outputs": []
    },
    {
      "cell_type": "markdown",
      "metadata": {
        "id": "VAfs2nAXguVl"
      },
      "source": [
        "Loaded in original interation dataframe and recippe dataframe and only kept the recipes that had more than 2 reviews"
      ]
    },
    {
      "cell_type": "code",
      "metadata": {
        "id": "QvPJU9BZggyU"
      },
      "source": [
        "#interactions = pd.read_csv('data/RAW_interactions.csv')\n",
        "#recipes = pd.read_csv('data/RAW_recipes.csv')"
      ],
      "execution_count": 2,
      "outputs": []
    },
    {
      "cell_type": "code",
      "metadata": {
        "id": "MIRMw1PbggyU"
      },
      "source": [
        "# g = {'rating' : ['mean'],'user_id' : ['nunique']}\n",
        "# int_summary = interactions.groupby(['recipe_id']).agg(g).reset_index()\n",
        "# ### Its gives a muti index output convert it to single index by cobining bothe level\n",
        "# ind = pd.Index([e[0] + \"_\" +e[1] for e in int_summary.columns.tolist()])\n",
        "# ### Assign the column names \n",
        "# int_summary.columns = ind\n",
        "# int_summary.columns = ['recipe_id', 'rating_mean', 'user_id_nunique']\n",
        "# ### We will keep only those recipes in considerstaion which have been reviewed by more than 2 people\n",
        "# int_summary_94k = int_summary[ (int_summary['user_id_nunique'] > 2)]"
      ],
      "execution_count": 2,
      "outputs": []
    },
    {
      "cell_type": "code",
      "metadata": {
        "id": "7TU6R-5hggyV"
      },
      "source": [
        "#filter_recipe = pd.merge(recipes,int_summary_94k,right_on = ['recipe_id'],left_on = ['id'],how = 'inner')"
      ],
      "execution_count": 3,
      "outputs": []
    },
    {
      "cell_type": "code",
      "metadata": {
        "id": "8s8s9wZSggyV"
      },
      "source": [
        "# test_df = filter_recipe.copy()\n",
        "# #test_df['calories'] = test_df['nutrition']\n",
        "# test_df['calories'] = test_df['nutrition'].map(lambda x: ast.literal_eval(x)[0])\n",
        "# test_df['total fat'] = test_df['nutrition'].map(lambda x: ast.literal_eval(x)[1])\n",
        "# test_df['sugar'] = test_df['nutrition'].map(lambda x: ast.literal_eval(x)[2])\n",
        "# test_df['sodium'] = test_df['nutrition'].map(lambda x: ast.literal_eval(x)[3])\n",
        "# test_df['protien'] = test_df['nutrition'].map(lambda x: ast.literal_eval(x)[4])\n",
        "# test_df['saturated fat'] = test_df['nutrition'].map(lambda x: ast.literal_eval(x)[5])\n",
        "# test_df['carbohydrates'] = test_df['nutrition'].map(lambda x: ast.literal_eval(x)[6])"
      ],
      "execution_count": null,
      "outputs": []
    },
    {
      "cell_type": "code",
      "metadata": {
        "id": "Jx0uqMDtggyW"
      },
      "source": [
        "# test_df['dish_recipe'] = filter_recipe['steps'].apply(lambda x : \" \".join(ast.literal_eval(x)))"
      ],
      "execution_count": null,
      "outputs": []
    },
    {
      "cell_type": "code",
      "metadata": {
        "id": "PSmEEABRh7tt"
      },
      "source": [
        "recipes = pd.read_csv('data/90_k_recipe.csv')"
      ],
      "execution_count": 10,
      "outputs": []
    },
    {
      "cell_type": "markdown",
      "metadata": {
        "id": "QA2MnKz7hKmH"
      },
      "source": [
        "Used AWS to take 10,000 recipes and find the top 10 most similar recipes based on the recipe itself. Included for each recipe was the steps and ingredients. Bert allowed for the tokenazation of each word and vectoriez the sentence to be able to compare to one another. This was the result."
      ]
    },
    {
      "cell_type": "code",
      "metadata": {
        "id": "V_Lz-EzYggyW"
      },
      "source": [
        "recipes = recipes[:10000]"
      ],
      "execution_count": 11,
      "outputs": []
    },
    {
      "cell_type": "code",
      "metadata": {
        "id": "HWn2XlH2hhQ9"
      },
      "source": [
        "top_10_for_each_recipe = pd.read_csv('data/first_10k_top_10_rec.csv')"
      ],
      "execution_count": 12,
      "outputs": []
    },
    {
      "cell_type": "code",
      "metadata": {
        "colab": {
          "base_uri": "https://localhost:8080/",
          "height": 390
        },
        "id": "zOUSSdLFggyX",
        "outputId": "fab9cdd4-cd10-4c09-c95a-b505a32d7371"
      },
      "source": [
        "top_10_for_each_recipe.head(11)"
      ],
      "execution_count": 16,
      "outputs": [
        {
          "output_type": "execute_result",
          "data": {
            "text/html": [
              "<div>\n",
              "<style scoped>\n",
              "    .dataframe tbody tr th:only-of-type {\n",
              "        vertical-align: middle;\n",
              "    }\n",
              "\n",
              "    .dataframe tbody tr th {\n",
              "        vertical-align: top;\n",
              "    }\n",
              "\n",
              "    .dataframe thead th {\n",
              "        text-align: right;\n",
              "    }\n",
              "</style>\n",
              "<table border=\"1\" class=\"dataframe\">\n",
              "  <thead>\n",
              "    <tr style=\"text-align: right;\">\n",
              "      <th></th>\n",
              "      <th>Unnamed: 0</th>\n",
              "      <th>recipe1</th>\n",
              "      <th>recipe2</th>\n",
              "      <th>cosine_similarity</th>\n",
              "      <th>recipe1_name</th>\n",
              "      <th>recipe2_name</th>\n",
              "      <th>similarity_rank</th>\n",
              "    </tr>\n",
              "  </thead>\n",
              "  <tbody>\n",
              "    <tr>\n",
              "      <th>0</th>\n",
              "      <td>0</td>\n",
              "      <td>0</td>\n",
              "      <td>1087</td>\n",
              "      <td>0.824837</td>\n",
              "      <td>arriba   baked winter squash mexican style</td>\n",
              "      <td>acorn squash a la kree</td>\n",
              "      <td>3.0</td>\n",
              "    </tr>\n",
              "    <tr>\n",
              "      <th>1</th>\n",
              "      <td>1</td>\n",
              "      <td>0</td>\n",
              "      <td>1090</td>\n",
              "      <td>0.824706</td>\n",
              "      <td>arriba   baked winter squash mexican style</td>\n",
              "      <td>acorn squash bisque</td>\n",
              "      <td>4.0</td>\n",
              "    </tr>\n",
              "    <tr>\n",
              "      <th>2</th>\n",
              "      <td>2</td>\n",
              "      <td>0</td>\n",
              "      <td>1094</td>\n",
              "      <td>0.807394</td>\n",
              "      <td>arriba   baked winter squash mexican style</td>\n",
              "      <td>acorn squash roasted with applesauce</td>\n",
              "      <td>7.0</td>\n",
              "    </tr>\n",
              "    <tr>\n",
              "      <th>3</th>\n",
              "      <td>3</td>\n",
              "      <td>0</td>\n",
              "      <td>1101</td>\n",
              "      <td>0.817159</td>\n",
              "      <td>arriba   baked winter squash mexican style</td>\n",
              "      <td>acorn squash with pineapple</td>\n",
              "      <td>5.0</td>\n",
              "    </tr>\n",
              "    <tr>\n",
              "      <th>4</th>\n",
              "      <td>4</td>\n",
              "      <td>0</td>\n",
              "      <td>1102</td>\n",
              "      <td>0.813644</td>\n",
              "      <td>arriba   baked winter squash mexican style</td>\n",
              "      <td>acorn squash with raisin sauce</td>\n",
              "      <td>6.0</td>\n",
              "    </tr>\n",
              "    <tr>\n",
              "      <th>5</th>\n",
              "      <td>5</td>\n",
              "      <td>0</td>\n",
              "      <td>4184</td>\n",
              "      <td>0.797381</td>\n",
              "      <td>arriba   baked winter squash mexican style</td>\n",
              "      <td>aunt fanny s baked yellow squash</td>\n",
              "      <td>8.0</td>\n",
              "    </tr>\n",
              "    <tr>\n",
              "      <th>6</th>\n",
              "      <td>6</td>\n",
              "      <td>0</td>\n",
              "      <td>4436</td>\n",
              "      <td>0.793161</td>\n",
              "      <td>arriba   baked winter squash mexican style</td>\n",
              "      <td>autumn baked acorn squash</td>\n",
              "      <td>10.0</td>\n",
              "    </tr>\n",
              "    <tr>\n",
              "      <th>7</th>\n",
              "      <td>7</td>\n",
              "      <td>0</td>\n",
              "      <td>5816</td>\n",
              "      <td>0.833334</td>\n",
              "      <td>arriba   baked winter squash mexican style</td>\n",
              "      <td>baked delicata squash with lime butter</td>\n",
              "      <td>2.0</td>\n",
              "    </tr>\n",
              "    <tr>\n",
              "      <th>8</th>\n",
              "      <td>8</td>\n",
              "      <td>0</td>\n",
              "      <td>6352</td>\n",
              "      <td>0.835143</td>\n",
              "      <td>arriba   baked winter squash mexican style</td>\n",
              "      <td>baked spaghetti squash with jalapeno cream</td>\n",
              "      <td>1.0</td>\n",
              "    </tr>\n",
              "    <tr>\n",
              "      <th>9</th>\n",
              "      <td>9</td>\n",
              "      <td>0</td>\n",
              "      <td>7628</td>\n",
              "      <td>0.796396</td>\n",
              "      <td>arriba   baked winter squash mexican style</td>\n",
              "      <td>barefoot contessa s butternut squash risotto</td>\n",
              "      <td>9.0</td>\n",
              "    </tr>\n",
              "    <tr>\n",
              "      <th>10</th>\n",
              "      <td>10</td>\n",
              "      <td>1</td>\n",
              "      <td>289</td>\n",
              "      <td>0.847701</td>\n",
              "      <td>a bit different  breakfast pizza</td>\n",
              "      <td>make ahead  flaky sausage foldovers</td>\n",
              "      <td>8.0</td>\n",
              "    </tr>\n",
              "  </tbody>\n",
              "</table>\n",
              "</div>"
            ],
            "text/plain": [
              "    Unnamed: 0  ...  similarity_rank\n",
              "0            0  ...              3.0\n",
              "1            1  ...              4.0\n",
              "2            2  ...              7.0\n",
              "3            3  ...              5.0\n",
              "4            4  ...              6.0\n",
              "5            5  ...              8.0\n",
              "6            6  ...             10.0\n",
              "7            7  ...              2.0\n",
              "8            8  ...              1.0\n",
              "9            9  ...              9.0\n",
              "10          10  ...              8.0\n",
              "\n",
              "[11 rows x 7 columns]"
            ]
          },
          "metadata": {
            "tags": []
          },
          "execution_count": 16
        }
      ]
    },
    {
      "cell_type": "code",
      "metadata": {
        "id": "JFzuCsFbggyY"
      },
      "source": [
        "recipes.drop('nutrition',axis=1,inplace=True)"
      ],
      "execution_count": 20,
      "outputs": []
    },
    {
      "cell_type": "code",
      "metadata": {
        "id": "aoBgkyMbggyZ"
      },
      "source": [
        "recipes_features = recipes[['name','n_steps','n_ingredients','rating_mean','calories','total fat','sugar','sodium','protien','saturated fat','carbohydrates']]"
      ],
      "execution_count": 26,
      "outputs": []
    },
    {
      "cell_type": "code",
      "metadata": {
        "colab": {
          "base_uri": "https://localhost:8080/"
        },
        "id": "61OuaZorggya",
        "outputId": "9a2402aa-cfeb-434d-c740-62be1f36fe99"
      },
      "source": [
        "recipes_features.columns"
      ],
      "execution_count": 173,
      "outputs": [
        {
          "output_type": "execute_result",
          "data": {
            "text/plain": [
              "Index(['name', 'n_steps', 'n_ingredients', 'rating_mean', 'calories',\n",
              "       'total fat', 'sugar', 'sodium', 'protien', 'saturated fat',\n",
              "       'carbohydrates'],\n",
              "      dtype='object')"
            ]
          },
          "metadata": {
            "tags": []
          },
          "execution_count": 173
        }
      ]
    },
    {
      "cell_type": "code",
      "metadata": {
        "id": "KwOrfaezjmxA"
      },
      "source": [
        "feat = ['calories',\n",
        "       'total fat', 'sugar', 'sodium', 'protien', 'saturated fat',\n",
        "       'carbohydrates']"
      ],
      "execution_count": 175,
      "outputs": []
    },
    {
      "cell_type": "code",
      "metadata": {
        "id": "Hq9xsiuVl4xI"
      },
      "source": [
        "X = recipes_features[feat].values"
      ],
      "execution_count": 176,
      "outputs": []
    },
    {
      "cell_type": "code",
      "metadata": {
        "id": "OA-rGANFmHvh"
      },
      "source": [
        "from sklearn.preprocessing import StandardScaler"
      ],
      "execution_count": 177,
      "outputs": []
    },
    {
      "cell_type": "code",
      "metadata": {
        "id": "megEqx5-mJhM"
      },
      "source": [
        "ss = StandardScaler()"
      ],
      "execution_count": 178,
      "outputs": []
    },
    {
      "cell_type": "code",
      "metadata": {
        "id": "b2sonQ4Hmghp"
      },
      "source": [
        "X = ss.fit_transform(X)"
      ],
      "execution_count": 179,
      "outputs": []
    },
    {
      "cell_type": "code",
      "metadata": {
        "id": "m_Aqz0aTmlCI"
      },
      "source": [
        "#Cosine similarity with the nutrition features\n",
        "\n",
        "def cos_sim(name, X, n=5):\n",
        "    index = recipes.index[(recipes['name'] == name)][0]\n",
        "    rec = X[index].reshape(1,-1)\n",
        "    cs = cosine_similarity(rec, X)\n",
        "    rec_index = np.argsort(cs)[0][::-1]\n",
        "    ordered_df = recipes.loc[rec_index]\n",
        "    ordered_df = ordered_df.drop(index)\n",
        "    rec_df = ordered_df.head(n)\n",
        "    orig_row = recipes.loc[[index]].rename(lambda x: 'original')\n",
        "    total = pd.concat((orig_row,rec_df))\n",
        "    return total"
      ],
      "execution_count": 180,
      "outputs": []
    },
    {
      "cell_type": "code",
      "metadata": {
        "id": "jGyKMb5ZnRyI",
        "outputId": "105a3f3c-5016-4f4e-9735-58b829e8b67e",
        "colab": {
          "base_uri": "https://localhost:8080/",
          "height": 867
        }
      },
      "source": [
        "cos_sim('arriba   baked winter squash mexican style',X)"
      ],
      "execution_count": 181,
      "outputs": [
        {
          "output_type": "execute_result",
          "data": {
            "text/html": [
              "<div>\n",
              "<style scoped>\n",
              "    .dataframe tbody tr th:only-of-type {\n",
              "        vertical-align: middle;\n",
              "    }\n",
              "\n",
              "    .dataframe tbody tr th {\n",
              "        vertical-align: top;\n",
              "    }\n",
              "\n",
              "    .dataframe thead th {\n",
              "        text-align: right;\n",
              "    }\n",
              "</style>\n",
              "<table border=\"1\" class=\"dataframe\">\n",
              "  <thead>\n",
              "    <tr style=\"text-align: right;\">\n",
              "      <th></th>\n",
              "      <th>Unnamed: 0</th>\n",
              "      <th>name</th>\n",
              "      <th>id</th>\n",
              "      <th>minutes</th>\n",
              "      <th>contributor_id</th>\n",
              "      <th>submitted</th>\n",
              "      <th>tags</th>\n",
              "      <th>n_steps</th>\n",
              "      <th>steps</th>\n",
              "      <th>description</th>\n",
              "      <th>ingredients</th>\n",
              "      <th>n_ingredients</th>\n",
              "      <th>recipe_id</th>\n",
              "      <th>rating_mean</th>\n",
              "      <th>user_id_nunique</th>\n",
              "      <th>calories</th>\n",
              "      <th>total fat</th>\n",
              "      <th>sugar</th>\n",
              "      <th>sodium</th>\n",
              "      <th>protien</th>\n",
              "      <th>saturated fat</th>\n",
              "      <th>carbohydrates</th>\n",
              "      <th>dish_recipe</th>\n",
              "    </tr>\n",
              "  </thead>\n",
              "  <tbody>\n",
              "    <tr>\n",
              "      <th>original</th>\n",
              "      <td>0</td>\n",
              "      <td>arriba   baked winter squash mexican style</td>\n",
              "      <td>137739</td>\n",
              "      <td>55</td>\n",
              "      <td>47892</td>\n",
              "      <td>2005-09-16</td>\n",
              "      <td>[60-minutes-or-less, time-to-make, course, mai...</td>\n",
              "      <td>11</td>\n",
              "      <td>['make a choice and proceed with recipe', 'dep...</td>\n",
              "      <td>autumn is my favorite time of year to cook! th...</td>\n",
              "      <td>['winter squash', 'mexican seasoning', 'mixed ...</td>\n",
              "      <td>7</td>\n",
              "      <td>137739</td>\n",
              "      <td>5.000000</td>\n",
              "      <td>3</td>\n",
              "      <td>51.5</td>\n",
              "      <td>0.0</td>\n",
              "      <td>13.0</td>\n",
              "      <td>0.0</td>\n",
              "      <td>2.0</td>\n",
              "      <td>0.0</td>\n",
              "      <td>4.0</td>\n",
              "      <td>make a choice and proceed with recipe dependin...</td>\n",
              "    </tr>\n",
              "    <tr>\n",
              "      <th>6418</th>\n",
              "      <td>6418</td>\n",
              "      <td>baked sweet potato sticks</td>\n",
              "      <td>4765</td>\n",
              "      <td>15</td>\n",
              "      <td>1533</td>\n",
              "      <td>1999-11-21</td>\n",
              "      <td>[15-minutes-or-less, time-to-make, course, mai...</td>\n",
              "      <td>7</td>\n",
              "      <td>['preheat oven to 450f', 'lightly oil a baking...</td>\n",
              "      <td>NaN</td>\n",
              "      <td>['sweet potatoes', 'salt &amp; pepper']</td>\n",
              "      <td>2</td>\n",
              "      <td>4765</td>\n",
              "      <td>4.500000</td>\n",
              "      <td>14</td>\n",
              "      <td>55.9</td>\n",
              "      <td>0.0</td>\n",
              "      <td>10.0</td>\n",
              "      <td>1.0</td>\n",
              "      <td>2.0</td>\n",
              "      <td>0.0</td>\n",
              "      <td>4.0</td>\n",
              "      <td>preheat oven to 450f lightly oil a baking shee...</td>\n",
              "    </tr>\n",
              "    <tr>\n",
              "      <th>2122</th>\n",
              "      <td>2122</td>\n",
              "      <td>amish turnips</td>\n",
              "      <td>60720</td>\n",
              "      <td>75</td>\n",
              "      <td>58407</td>\n",
              "      <td>2003-04-22</td>\n",
              "      <td>[weeknight, time-to-make, course, main-ingredi...</td>\n",
              "      <td>7</td>\n",
              "      <td>['cook turnips until tender', 'drain , mash an...</td>\n",
              "      <td>very good recipe! i never had mashed turnips b...</td>\n",
              "      <td>['turnips', 'breadcrumbs', 'oleo', 'brown suga...</td>\n",
              "      <td>7</td>\n",
              "      <td>60720</td>\n",
              "      <td>4.666667</td>\n",
              "      <td>18</td>\n",
              "      <td>158.7</td>\n",
              "      <td>9.0</td>\n",
              "      <td>33.0</td>\n",
              "      <td>8.0</td>\n",
              "      <td>10.0</td>\n",
              "      <td>10.0</td>\n",
              "      <td>7.0</td>\n",
              "      <td>cook turnips until tender drain , mash and the...</td>\n",
              "    </tr>\n",
              "    <tr>\n",
              "      <th>8074</th>\n",
              "      <td>8074</td>\n",
              "      <td>batter fried onion rings</td>\n",
              "      <td>33676</td>\n",
              "      <td>50</td>\n",
              "      <td>37305</td>\n",
              "      <td>2002-07-09</td>\n",
              "      <td>[60-minutes-or-less, time-to-make, course, mai...</td>\n",
              "      <td>9</td>\n",
              "      <td>['cover onion slices with cold water and let s...</td>\n",
              "      <td>these are great homemade onion rings that are ...</td>\n",
              "      <td>['flour', 'salt', 'onions', 'milk', 'sugar', '...</td>\n",
              "      <td>8</td>\n",
              "      <td>33676</td>\n",
              "      <td>3.454545</td>\n",
              "      <td>11</td>\n",
              "      <td>92.8</td>\n",
              "      <td>3.0</td>\n",
              "      <td>14.0</td>\n",
              "      <td>4.0</td>\n",
              "      <td>5.0</td>\n",
              "      <td>3.0</td>\n",
              "      <td>5.0</td>\n",
              "      <td>cover onion slices with cold water and let sta...</td>\n",
              "    </tr>\n",
              "    <tr>\n",
              "      <th>635</th>\n",
              "      <td>635</td>\n",
              "      <td>35 calorie pumpkin cookies</td>\n",
              "      <td>333395</td>\n",
              "      <td>32</td>\n",
              "      <td>1003473</td>\n",
              "      <td>2008-10-28</td>\n",
              "      <td>[60-minutes-or-less, time-to-make, course, pre...</td>\n",
              "      <td>9</td>\n",
              "      <td>['preheat oven to 350 degrees f', 'combine the...</td>\n",
              "      <td>these cookies are absolutely delicious and pra...</td>\n",
              "      <td>['canned pumpkin', 'egg', 'plain yogurt', 'hon...</td>\n",
              "      <td>13</td>\n",
              "      <td>333395</td>\n",
              "      <td>2.750000</td>\n",
              "      <td>4</td>\n",
              "      <td>61.1</td>\n",
              "      <td>0.0</td>\n",
              "      <td>13.0</td>\n",
              "      <td>4.0</td>\n",
              "      <td>3.0</td>\n",
              "      <td>1.0</td>\n",
              "      <td>4.0</td>\n",
              "      <td>preheat oven to 350 degrees f combine the firs...</td>\n",
              "    </tr>\n",
              "    <tr>\n",
              "      <th>1101</th>\n",
              "      <td>1101</td>\n",
              "      <td>acorn squash with pineapple</td>\n",
              "      <td>28507</td>\n",
              "      <td>65</td>\n",
              "      <td>17803</td>\n",
              "      <td>2002-05-15</td>\n",
              "      <td>[weeknight, time-to-make, course, main-ingredi...</td>\n",
              "      <td>10</td>\n",
              "      <td>['preheat oven to 350 degrees', 'cut squash in...</td>\n",
              "      <td>doubles nicely.</td>\n",
              "      <td>['acorn squash', 'cinnamon', 'nutmeg', 'allspi...</td>\n",
              "      <td>6</td>\n",
              "      <td>28507</td>\n",
              "      <td>2.600000</td>\n",
              "      <td>5</td>\n",
              "      <td>60.7</td>\n",
              "      <td>0.0</td>\n",
              "      <td>10.0</td>\n",
              "      <td>0.0</td>\n",
              "      <td>2.0</td>\n",
              "      <td>0.0</td>\n",
              "      <td>5.0</td>\n",
              "      <td>preheat oven to 350 degrees cut squash in half...</td>\n",
              "    </tr>\n",
              "  </tbody>\n",
              "</table>\n",
              "</div>"
            ],
            "text/plain": [
              "          Unnamed: 0  ...                                        dish_recipe\n",
              "original           0  ...  make a choice and proceed with recipe dependin...\n",
              "6418            6418  ...  preheat oven to 450f lightly oil a baking shee...\n",
              "2122            2122  ...  cook turnips until tender drain , mash and the...\n",
              "8074            8074  ...  cover onion slices with cold water and let sta...\n",
              "635              635  ...  preheat oven to 350 degrees f combine the firs...\n",
              "1101            1101  ...  preheat oven to 350 degrees cut squash in half...\n",
              "\n",
              "[6 rows x 23 columns]"
            ]
          },
          "metadata": {
            "tags": []
          },
          "execution_count": 181
        }
      ]
    },
    {
      "cell_type": "code",
      "metadata": {
        "id": "YSLa562WrkGV"
      },
      "source": [
        ""
      ],
      "execution_count": null,
      "outputs": []
    },
    {
      "cell_type": "markdown",
      "metadata": {
        "id": "d4EVTOs_rknr"
      },
      "source": [
        "creating top 10 tags for each recipe"
      ]
    },
    {
      "cell_type": "code",
      "metadata": {
        "id": "Wh-xjndenVT6"
      },
      "source": [
        "recipe_tags = recipes[['name','tags']]"
      ],
      "execution_count": 55,
      "outputs": []
    },
    {
      "cell_type": "code",
      "metadata": {
        "id": "KlcWEdwWnXd5"
      },
      "source": [
        "recipes['tags'] = recipes['tags'].map(lambda x: ast.literal_eval(x))"
      ],
      "execution_count": 119,
      "outputs": []
    },
    {
      "cell_type": "code",
      "metadata": {
        "id": "i0iPcTfQpyiw"
      },
      "source": [
        "d = {}\n",
        "for tag in recipe_tags['tags']:\n",
        "  for word in tag:\n",
        "    if word not in d:\n",
        "      d[word] = 0\n",
        "    d[word] += 1"
      ],
      "execution_count": 71,
      "outputs": []
    },
    {
      "cell_type": "code",
      "metadata": {
        "id": "i2ct7F7VqOJo"
      },
      "source": [
        "#sorted(d.items(), key=lambda item: item[1],reverse=True)"
      ],
      "execution_count": 127,
      "outputs": []
    },
    {
      "cell_type": "code",
      "metadata": {
        "id": "FjANQ47hreGR"
      },
      "source": [
        "#recomendation on featurs and tags\n",
        "\n",
        "#given name of recipe and the tags you are looking for , gives top recomendations based on dish with the tags\n",
        "def cos_sim_tags(name, X,tags=None, n=5):\n",
        "    index = recipes.index[(recipes['name'] == name)][0]\n",
        "    rec = X[index].reshape(1,-1)\n",
        "    cs = cosine_similarity(rec, X)\n",
        "    rec_index = np.argsort(cs)[0][::-1]\n",
        "    ordered_df = recipes.loc[rec_index]\n",
        "    if tags == None:\n",
        "      rec_df = ordered_df.head(n)\n",
        "      orig_row = recipes.loc[[index]].rename(lambda x: 'original')\n",
        "      total = pd.concat((orig_row,rec_df))\n",
        "      return total\n",
        "    for i, j in enumerate(ordered_df['tags']):\n",
        "      counter = 0\n",
        "      for word in j:\n",
        "        if word in tags:\n",
        "          counter += 1\n",
        "\n",
        "      if counter == 0:\n",
        "        ordered_df.drop(i,inplace=True)\n",
        "    try:\n",
        "      ordered_df = ordered_df.drop(index)\n",
        "    except:\n",
        "      pass\n",
        "    rec_df = ordered_df.head(n)\n",
        "    orig_row = recipes.loc[[index]].rename(lambda x: 'original')\n",
        "    total = pd.concat((orig_row,rec_df))\n",
        "    return total\n",
        "\n",
        "    \n",
        "      \n",
        "\n"
      ],
      "execution_count": 197,
      "outputs": []
    },
    {
      "cell_type": "code",
      "metadata": {
        "id": "3XO3uS_Ov1Th",
        "outputId": "9f8ac5df-21c2-499e-80fa-861fddb14680",
        "colab": {
          "base_uri": "https://localhost:8080/",
          "height": 833
        }
      },
      "source": [
        "example_name = 'acorn squash with pineapple'\n",
        "cos_sim_tags(example_name,X,tags=['low-protein'])"
      ],
      "execution_count": 198,
      "outputs": [
        {
          "output_type": "execute_result",
          "data": {
            "text/html": [
              "<div>\n",
              "<style scoped>\n",
              "    .dataframe tbody tr th:only-of-type {\n",
              "        vertical-align: middle;\n",
              "    }\n",
              "\n",
              "    .dataframe tbody tr th {\n",
              "        vertical-align: top;\n",
              "    }\n",
              "\n",
              "    .dataframe thead th {\n",
              "        text-align: right;\n",
              "    }\n",
              "</style>\n",
              "<table border=\"1\" class=\"dataframe\">\n",
              "  <thead>\n",
              "    <tr style=\"text-align: right;\">\n",
              "      <th></th>\n",
              "      <th>Unnamed: 0</th>\n",
              "      <th>name</th>\n",
              "      <th>id</th>\n",
              "      <th>minutes</th>\n",
              "      <th>contributor_id</th>\n",
              "      <th>submitted</th>\n",
              "      <th>tags</th>\n",
              "      <th>n_steps</th>\n",
              "      <th>steps</th>\n",
              "      <th>description</th>\n",
              "      <th>ingredients</th>\n",
              "      <th>n_ingredients</th>\n",
              "      <th>recipe_id</th>\n",
              "      <th>rating_mean</th>\n",
              "      <th>user_id_nunique</th>\n",
              "      <th>calories</th>\n",
              "      <th>total fat</th>\n",
              "      <th>sugar</th>\n",
              "      <th>sodium</th>\n",
              "      <th>protien</th>\n",
              "      <th>saturated fat</th>\n",
              "      <th>carbohydrates</th>\n",
              "      <th>dish_recipe</th>\n",
              "    </tr>\n",
              "  </thead>\n",
              "  <tbody>\n",
              "    <tr>\n",
              "      <th>original</th>\n",
              "      <td>1101</td>\n",
              "      <td>acorn squash with pineapple</td>\n",
              "      <td>28507</td>\n",
              "      <td>65</td>\n",
              "      <td>17803</td>\n",
              "      <td>2002-05-15</td>\n",
              "      <td>[weeknight, time-to-make, course, main-ingredi...</td>\n",
              "      <td>10</td>\n",
              "      <td>['preheat oven to 350 degrees', 'cut squash in...</td>\n",
              "      <td>doubles nicely.</td>\n",
              "      <td>['acorn squash', 'cinnamon', 'nutmeg', 'allspi...</td>\n",
              "      <td>6</td>\n",
              "      <td>28507</td>\n",
              "      <td>2.600000</td>\n",
              "      <td>5</td>\n",
              "      <td>60.7</td>\n",
              "      <td>0.0</td>\n",
              "      <td>10.0</td>\n",
              "      <td>0.0</td>\n",
              "      <td>2.0</td>\n",
              "      <td>0.0</td>\n",
              "      <td>5.0</td>\n",
              "      <td>preheat oven to 350 degrees cut squash in half...</td>\n",
              "    </tr>\n",
              "    <tr>\n",
              "      <th>0</th>\n",
              "      <td>0</td>\n",
              "      <td>arriba   baked winter squash mexican style</td>\n",
              "      <td>137739</td>\n",
              "      <td>55</td>\n",
              "      <td>47892</td>\n",
              "      <td>2005-09-16</td>\n",
              "      <td>[60-minutes-or-less, time-to-make, course, mai...</td>\n",
              "      <td>11</td>\n",
              "      <td>['make a choice and proceed with recipe', 'dep...</td>\n",
              "      <td>autumn is my favorite time of year to cook! th...</td>\n",
              "      <td>['winter squash', 'mexican seasoning', 'mixed ...</td>\n",
              "      <td>7</td>\n",
              "      <td>137739</td>\n",
              "      <td>5.000000</td>\n",
              "      <td>3</td>\n",
              "      <td>51.5</td>\n",
              "      <td>0.0</td>\n",
              "      <td>13.0</td>\n",
              "      <td>0.0</td>\n",
              "      <td>2.0</td>\n",
              "      <td>0.0</td>\n",
              "      <td>4.0</td>\n",
              "      <td>make a choice and proceed with recipe dependin...</td>\n",
              "    </tr>\n",
              "    <tr>\n",
              "      <th>465</th>\n",
              "      <td>465</td>\n",
              "      <td>2 ingredient cookies</td>\n",
              "      <td>496213</td>\n",
              "      <td>20</td>\n",
              "      <td>260988</td>\n",
              "      <td>2013-02-27</td>\n",
              "      <td>[30-minutes-or-less, time-to-make, course, pre...</td>\n",
              "      <td>8</td>\n",
              "      <td>['pre heat oven to 350', 'add bananas and oats...</td>\n",
              "      <td>found this recipe online and tried it out. tur...</td>\n",
              "      <td>['bananas', 'quick oats']</td>\n",
              "      <td>2</td>\n",
              "      <td>496213</td>\n",
              "      <td>4.600000</td>\n",
              "      <td>5</td>\n",
              "      <td>86.2</td>\n",
              "      <td>1.0</td>\n",
              "      <td>19.0</td>\n",
              "      <td>0.0</td>\n",
              "      <td>4.0</td>\n",
              "      <td>0.0</td>\n",
              "      <td>6.0</td>\n",
              "      <td>pre heat oven to 350 add bananas and oats to a...</td>\n",
              "    </tr>\n",
              "    <tr>\n",
              "      <th>768</th>\n",
              "      <td>768</td>\n",
              "      <td>60 minute dinner rolls</td>\n",
              "      <td>216705</td>\n",
              "      <td>60</td>\n",
              "      <td>418564</td>\n",
              "      <td>2007-03-13</td>\n",
              "      <td>[60-minutes-or-less, time-to-make, course, pre...</td>\n",
              "      <td>18</td>\n",
              "      <td>['preheat oven to 425 degrees f', 'in a large ...</td>\n",
              "      <td>these are some of the best dinner rolls i've m...</td>\n",
              "      <td>['unsifted flour', 'salt', 'milk', 'margarine'...</td>\n",
              "      <td>7</td>\n",
              "      <td>216705</td>\n",
              "      <td>2.250000</td>\n",
              "      <td>8</td>\n",
              "      <td>89.3</td>\n",
              "      <td>2.0</td>\n",
              "      <td>6.0</td>\n",
              "      <td>4.0</td>\n",
              "      <td>4.0</td>\n",
              "      <td>2.0</td>\n",
              "      <td>5.0</td>\n",
              "      <td>preheat oven to 425 degrees f in a large bowl ...</td>\n",
              "    </tr>\n",
              "    <tr>\n",
              "      <th>4308</th>\n",
              "      <td>4308</td>\n",
              "      <td>australian grapefruit bowls</td>\n",
              "      <td>133951</td>\n",
              "      <td>20</td>\n",
              "      <td>183964</td>\n",
              "      <td>2005-08-18</td>\n",
              "      <td>[30-minutes-or-less, time-to-make, course, mai...</td>\n",
              "      <td>4</td>\n",
              "      <td>['cut grapefruit in halves and remove fruit se...</td>\n",
              "      <td>this sounds absolutely delicious! posted for t...</td>\n",
              "      <td>['grapefruits', 'orange juice', 'dry sherry', ...</td>\n",
              "      <td>4</td>\n",
              "      <td>133951</td>\n",
              "      <td>4.666667</td>\n",
              "      <td>12</td>\n",
              "      <td>77.9</td>\n",
              "      <td>0.0</td>\n",
              "      <td>21.0</td>\n",
              "      <td>0.0</td>\n",
              "      <td>2.0</td>\n",
              "      <td>0.0</td>\n",
              "      <td>5.0</td>\n",
              "      <td>cut grapefruit in halves and remove fruit sect...</td>\n",
              "    </tr>\n",
              "    <tr>\n",
              "      <th>635</th>\n",
              "      <td>635</td>\n",
              "      <td>35 calorie pumpkin cookies</td>\n",
              "      <td>333395</td>\n",
              "      <td>32</td>\n",
              "      <td>1003473</td>\n",
              "      <td>2008-10-28</td>\n",
              "      <td>[60-minutes-or-less, time-to-make, course, pre...</td>\n",
              "      <td>9</td>\n",
              "      <td>['preheat oven to 350 degrees f', 'combine the...</td>\n",
              "      <td>these cookies are absolutely delicious and pra...</td>\n",
              "      <td>['canned pumpkin', 'egg', 'plain yogurt', 'hon...</td>\n",
              "      <td>13</td>\n",
              "      <td>333395</td>\n",
              "      <td>2.750000</td>\n",
              "      <td>4</td>\n",
              "      <td>61.1</td>\n",
              "      <td>0.0</td>\n",
              "      <td>13.0</td>\n",
              "      <td>4.0</td>\n",
              "      <td>3.0</td>\n",
              "      <td>1.0</td>\n",
              "      <td>4.0</td>\n",
              "      <td>preheat oven to 350 degrees f combine the firs...</td>\n",
              "    </tr>\n",
              "  </tbody>\n",
              "</table>\n",
              "</div>"
            ],
            "text/plain": [
              "          Unnamed: 0  ...                                        dish_recipe\n",
              "original        1101  ...  preheat oven to 350 degrees cut squash in half...\n",
              "0                  0  ...  make a choice and proceed with recipe dependin...\n",
              "465              465  ...  pre heat oven to 350 add bananas and oats to a...\n",
              "768              768  ...  preheat oven to 425 degrees f in a large bowl ...\n",
              "4308            4308  ...  cut grapefruit in halves and remove fruit sect...\n",
              "635              635  ...  preheat oven to 350 degrees f combine the firs...\n",
              "\n",
              "[6 rows x 23 columns]"
            ]
          },
          "metadata": {
            "tags": []
          },
          "execution_count": 198
        }
      ]
    },
    {
      "cell_type": "code",
      "metadata": {
        "id": "HEZh1bclv_rm",
        "outputId": "4a729d54-74e2-476d-8189-931abf835657",
        "colab": {
          "base_uri": "https://localhost:8080/"
        }
      },
      "source": [
        "recipes[recipes['name'] == 'acorn squash with pineapple']['tags'].values"
      ],
      "execution_count": 195,
      "outputs": [
        {
          "output_type": "execute_result",
          "data": {
            "text/plain": [
              "array([list(['weeknight', 'time-to-make', 'course', 'main-ingredient', 'preparation', 'low-protein', 'healthy', 'side-dishes', 'fruit', 'vegetables', 'oven', 'easy', 'low-fat', 'dietary', 'low-sodium', 'low-cholesterol', 'low-saturated-fat', 'low-calorie', 'healthy-2', 'low-in-something', 'tropical-fruit', 'pineapple', 'equipment', '4-hours-or-less'])],\n",
              "      dtype=object)"
            ]
          },
          "metadata": {
            "tags": []
          },
          "execution_count": 195
        }
      ]
    },
    {
      "cell_type": "code",
      "metadata": {
        "id": "5pioZvHewDES"
      },
      "source": [
        "recipes_ingredients = recipes[['name','ingredients']]"
      ],
      "execution_count": 209,
      "outputs": []
    },
    {
      "cell_type": "code",
      "metadata": {
        "id": "EHJoKGr7Ldfa",
        "outputId": "d1adf4eb-fc38-496e-fde6-44bd64fbaec3",
        "colab": {
          "base_uri": "https://localhost:8080/"
        }
      },
      "source": [
        "recipes_ingredients['ingredients'] = recipes_ingredients['ingredients'].map(lambda x: ast.literal_eval(x)) "
      ],
      "execution_count": 210,
      "outputs": [
        {
          "output_type": "stream",
          "text": [
            "/usr/local/lib/python3.6/dist-packages/ipykernel_launcher.py:1: SettingWithCopyWarning: \n",
            "A value is trying to be set on a copy of a slice from a DataFrame.\n",
            "Try using .loc[row_indexer,col_indexer] = value instead\n",
            "\n",
            "See the caveats in the documentation: https://pandas.pydata.org/pandas-docs/stable/user_guide/indexing.html#returning-a-view-versus-a-copy\n",
            "  \"\"\"Entry point for launching an IPython kernel.\n"
          ],
          "name": "stderr"
        }
      ]
    },
    {
      "cell_type": "code",
      "metadata": {
        "id": "HpmSEx_DLimu",
        "outputId": "88d419ce-04c6-488a-e40d-5e4e9c424e7e",
        "colab": {
          "base_uri": "https://localhost:8080/"
        }
      },
      "source": [
        "ingredients = ['eggs','flour']\n",
        "r_cop = recipes.copy()\n",
        "for i, ig in enumerate(recipes_ingredients['ingredients']):\n",
        "  count = len(ingredients)\n",
        "  for word in ingredients:\n",
        "    if word in ig:\n",
        "      count -= 1\n",
        "  if count != 0:\n",
        "    r_cop.drop(i,inplace=True)\n"
      ],
      "execution_count": 213,
      "outputs": [
        {
          "output_type": "stream",
          "text": [
            "      Unnamed: 0  ...                                        dish_recipe\n",
            "29            29  ...  mix starter ingredients in a bowl and let stan...\n",
            "35            35  ...  combine eggs , flour , baking powder , salt& p...\n",
            "42            42  ...  melt chocolate and butter in heavy pot let coo...\n",
            "57            57  ...  cream together butter and sugar blend in eggs ...\n",
            "58            58  ...  preheat oven to 300 combine cookie crumbs& but...\n",
            "...          ...  ...                                                ...\n",
            "9934        9934  ...  place whole chicken and water into large pot o...\n",
            "9935        9935  ...  spray muffin tins with pam do not use paper li...\n",
            "9964        9964  ...  in a bowl the size of a bucket , throw in ever...\n",
            "9967        9967  ...  preheat oven to 350f mix all ingredients excep...\n",
            "9997        9997  ...  mix the turkey , stuffing , and eggs well refr...\n",
            "\n",
            "[452 rows x 23 columns]\n"
          ],
          "name": "stdout"
        }
      ]
    },
    {
      "cell_type": "code",
      "metadata": {
        "id": "7gldRsCuL4Mq",
        "outputId": "a3d12a59-72c2-439f-97d7-463cfff62bb2",
        "colab": {
          "base_uri": "https://localhost:8080/"
        }
      },
      "source": [
        "for number, step in enumerate(r_cop.sort_values('rating_mean',ascending=False)[:5]['steps'].map(lambda x: ast.literal_eval(x)).iloc[0]):\n",
        "  print(f'Step{ number} : {step}')\n",
        "  "
      ],
      "execution_count": 227,
      "outputs": [
        {
          "output_type": "stream",
          "text": [
            "Step0 : heat oven to 350\n",
            "Step1 : grease& flour two 9x5 loaf pans\n",
            "Step2 : combine flour , salt& soda- sift together in medium bowl , and set aside\n",
            "Step3 : in large mixing bowl , cream sugar and shortening\n",
            "Step4 : add eggs , sour cream& orange juice\n",
            "Step5 : stir flour in until just moistened\n",
            "Step6 : fold in cranberries , shredded apple and nuts\n",
            "Step7 : divide mixture between prepared loaf pans\n",
            "Step8 : bake 50 minutes , or until a tester comes out clean\n",
            "Step9 : bread should be golden brown\n",
            "Step10 : cool 10 minutes in pans , then cool on rack until cool\n",
            "Step11 : wrap each loaf tightly and store in refrigerator for 2 days before slicing , or freeze\n"
          ],
          "name": "stdout"
        }
      ]
    },
    {
      "cell_type": "code",
      "metadata": {
        "id": "b2GGiSueNBfC"
      },
      "source": [
        ""
      ],
      "execution_count": null,
      "outputs": []
    }
  ]
}