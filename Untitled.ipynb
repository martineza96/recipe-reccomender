{
  "nbformat": 4,
  "nbformat_minor": 0,
  "metadata": {
    "instance_type": "ml.g4dn.xlarge",
    "kernelspec": {
      "display_name": "Python 3 (PyTorch 1.6 Python 3.6 GPU Optimized)",
      "language": "python",
      "name": "python3__SAGEMAKER_INTERNAL__arn:aws:sagemaker:us-east-1:081325390199:image/pytorch-1.6-gpu-py36-cu110-ubuntu18.04-v3"
    },
    "language_info": {
      "codemirror_mode": {
        "name": "ipython",
        "version": 3
      },
      "file_extension": ".py",
      "mimetype": "text/x-python",
      "name": "python",
      "nbconvert_exporter": "python",
      "pygments_lexer": "ipython3",
      "version": "3.6.10"
    },
    "colab": {
      "name": "Untitled.ipynb",
      "provenance": []
    }
  },
  "cells": [
    {
      "cell_type": "code",
      "metadata": {
        "id": "UxjsWTHMggyO",
        "outputId": "060bb29a-c273-4d40-a283-eab20b279747",
        "colab": {
          "base_uri": "https://localhost:8080/"
        }
      },
      "source": [
        "from google.colab import drive\n",
        "drive.mount('/content/drive')"
      ],
      "execution_count": 4,
      "outputs": [
        {
          "output_type": "stream",
          "text": [
            "Mounted at /content/drive\n"
          ],
          "name": "stdout"
        }
      ]
    },
    {
      "cell_type": "code",
      "metadata": {
        "id": "xHZcFLNZhrp7",
        "outputId": "6140a97b-9cf3-4ba1-b893-383827db368f",
        "colab": {
          "base_uri": "https://localhost:8080/"
        }
      },
      "source": [
        "cd drive/MyDrive/Capstone\\ 3"
      ],
      "execution_count": 6,
      "outputs": [
        {
          "output_type": "stream",
          "text": [
            "/content/drive/MyDrive/Capstone 3\n"
          ],
          "name": "stdout"
        }
      ]
    },
    {
      "cell_type": "code",
      "metadata": {
        "id": "hToCb2WeggyS"
      },
      "source": [
        "import pandas as pd\n",
        "import os \n",
        "import ast\n",
        "#import sentence_transformers  #### This is the package which we will use for encoding recipes using pretrained embedding\n",
        "import matplotlib.pyplot as plt \n",
        "#import networkx as nx #### Network x will be used to create graph based algorithms\n",
        "import pickle ### We will use pickleto save files for later access\n",
        "#from sentence_transformers import SentenceTransformer\n",
        "from sklearn.metrics.pairwise import cosine_similarity ### Cosine Similary\n",
        "from scipy import sparse ### Sparse Matrix\n",
        "#model = SentenceTransformer('bert-large-nli-stsb-mean-tokens') ### We will use this senetnce encodings"
      ],
      "execution_count": 1,
      "outputs": []
    },
    {
      "cell_type": "markdown",
      "metadata": {
        "id": "VAfs2nAXguVl"
      },
      "source": [
        "Loaded in original interation dataframe and recippe dataframe and only kept the recipes that had more than 2 reviews"
      ]
    },
    {
      "cell_type": "code",
      "metadata": {
        "id": "QvPJU9BZggyU"
      },
      "source": [
        "#interactions = pd.read_csv('data/RAW_interactions.csv')\n",
        "#recipes = pd.read_csv('data/RAW_recipes.csv')"
      ],
      "execution_count": 2,
      "outputs": []
    },
    {
      "cell_type": "code",
      "metadata": {
        "id": "MIRMw1PbggyU"
      },
      "source": [
        "# g = {'rating' : ['mean'],'user_id' : ['nunique']}\n",
        "# int_summary = interactions.groupby(['recipe_id']).agg(g).reset_index()\n",
        "# ### Its gives a muti index output convert it to single index by cobining bothe level\n",
        "# ind = pd.Index([e[0] + \"_\" +e[1] for e in int_summary.columns.tolist()])\n",
        "# ### Assign the column names \n",
        "# int_summary.columns = ind\n",
        "# int_summary.columns = ['recipe_id', 'rating_mean', 'user_id_nunique']\n",
        "# ### We will keep only those recipes in considerstaion which have been reviewed by more than 2 people\n",
        "# int_summary_94k = int_summary[ (int_summary['user_id_nunique'] > 2)]"
      ],
      "execution_count": 2,
      "outputs": []
    },
    {
      "cell_type": "code",
      "metadata": {
        "id": "7TU6R-5hggyV"
      },
      "source": [
        "#filter_recipe = pd.merge(recipes,int_summary_94k,right_on = ['recipe_id'],left_on = ['id'],how = 'inner')"
      ],
      "execution_count": 3,
      "outputs": []
    },
    {
      "cell_type": "code",
      "metadata": {
        "id": "8s8s9wZSggyV"
      },
      "source": [
        "# test_df = filter_recipe.copy()\n",
        "# #test_df['calories'] = test_df['nutrition']\n",
        "# test_df['calories'] = test_df['nutrition'].map(lambda x: ast.literal_eval(x)[0])\n",
        "# test_df['total fat'] = test_df['nutrition'].map(lambda x: ast.literal_eval(x)[1])\n",
        "# test_df['sugar'] = test_df['nutrition'].map(lambda x: ast.literal_eval(x)[2])\n",
        "# test_df['sodium'] = test_df['nutrition'].map(lambda x: ast.literal_eval(x)[3])\n",
        "# test_df['protien'] = test_df['nutrition'].map(lambda x: ast.literal_eval(x)[4])\n",
        "# test_df['saturated fat'] = test_df['nutrition'].map(lambda x: ast.literal_eval(x)[5])\n",
        "# test_df['carbohydrates'] = test_df['nutrition'].map(lambda x: ast.literal_eval(x)[6])"
      ],
      "execution_count": null,
      "outputs": []
    },
    {
      "cell_type": "code",
      "metadata": {
        "id": "Jx0uqMDtggyW"
      },
      "source": [
        "# test_df['dish_recipe'] = filter_recipe['steps'].apply(lambda x : \" \".join(ast.literal_eval(x)))"
      ],
      "execution_count": null,
      "outputs": []
    },
    {
      "cell_type": "code",
      "metadata": {
        "id": "PSmEEABRh7tt"
      },
      "source": [
        "recipes = pd.read_csv('data/90_k_recipe.csv')"
      ],
      "execution_count": 10,
      "outputs": []
    },
    {
      "cell_type": "markdown",
      "metadata": {
        "id": "QA2MnKz7hKmH"
      },
      "source": [
        "Used AWS to take 10,000 recipes and find the top 10 most similar recipes based on the recipe itself. Included for each recipe was the steps and ingredients. Bert allowed for the tokenazation of each word and vectoriez the sentence to be able to compare to one another. This was the result."
      ]
    },
    {
      "cell_type": "code",
      "metadata": {
        "id": "V_Lz-EzYggyW"
      },
      "source": [
        "recipes = recipes[:10000]"
      ],
      "execution_count": 11,
      "outputs": []
    },
    {
      "cell_type": "code",
      "metadata": {
        "id": "HWn2XlH2hhQ9"
      },
      "source": [
        "top_10_for_each_recipe = pd.read_csv('data/first_10k_top_10_rec.csv')"
      ],
      "execution_count": 12,
      "outputs": []
    },
    {
      "cell_type": "code",
      "metadata": {
        "id": "zOUSSdLFggyX",
        "outputId": "fab9cdd4-cd10-4c09-c95a-b505a32d7371",
        "colab": {
          "base_uri": "https://localhost:8080/",
          "height": 390
        }
      },
      "source": [
        "top_10_for_each_recipe.head(11)"
      ],
      "execution_count": 16,
      "outputs": [
        {
          "output_type": "execute_result",
          "data": {
            "text/html": [
              "<div>\n",
              "<style scoped>\n",
              "    .dataframe tbody tr th:only-of-type {\n",
              "        vertical-align: middle;\n",
              "    }\n",
              "\n",
              "    .dataframe tbody tr th {\n",
              "        vertical-align: top;\n",
              "    }\n",
              "\n",
              "    .dataframe thead th {\n",
              "        text-align: right;\n",
              "    }\n",
              "</style>\n",
              "<table border=\"1\" class=\"dataframe\">\n",
              "  <thead>\n",
              "    <tr style=\"text-align: right;\">\n",
              "      <th></th>\n",
              "      <th>Unnamed: 0</th>\n",
              "      <th>recipe1</th>\n",
              "      <th>recipe2</th>\n",
              "      <th>cosine_similarity</th>\n",
              "      <th>recipe1_name</th>\n",
              "      <th>recipe2_name</th>\n",
              "      <th>similarity_rank</th>\n",
              "    </tr>\n",
              "  </thead>\n",
              "  <tbody>\n",
              "    <tr>\n",
              "      <th>0</th>\n",
              "      <td>0</td>\n",
              "      <td>0</td>\n",
              "      <td>1087</td>\n",
              "      <td>0.824837</td>\n",
              "      <td>arriba   baked winter squash mexican style</td>\n",
              "      <td>acorn squash a la kree</td>\n",
              "      <td>3.0</td>\n",
              "    </tr>\n",
              "    <tr>\n",
              "      <th>1</th>\n",
              "      <td>1</td>\n",
              "      <td>0</td>\n",
              "      <td>1090</td>\n",
              "      <td>0.824706</td>\n",
              "      <td>arriba   baked winter squash mexican style</td>\n",
              "      <td>acorn squash bisque</td>\n",
              "      <td>4.0</td>\n",
              "    </tr>\n",
              "    <tr>\n",
              "      <th>2</th>\n",
              "      <td>2</td>\n",
              "      <td>0</td>\n",
              "      <td>1094</td>\n",
              "      <td>0.807394</td>\n",
              "      <td>arriba   baked winter squash mexican style</td>\n",
              "      <td>acorn squash roasted with applesauce</td>\n",
              "      <td>7.0</td>\n",
              "    </tr>\n",
              "    <tr>\n",
              "      <th>3</th>\n",
              "      <td>3</td>\n",
              "      <td>0</td>\n",
              "      <td>1101</td>\n",
              "      <td>0.817159</td>\n",
              "      <td>arriba   baked winter squash mexican style</td>\n",
              "      <td>acorn squash with pineapple</td>\n",
              "      <td>5.0</td>\n",
              "    </tr>\n",
              "    <tr>\n",
              "      <th>4</th>\n",
              "      <td>4</td>\n",
              "      <td>0</td>\n",
              "      <td>1102</td>\n",
              "      <td>0.813644</td>\n",
              "      <td>arriba   baked winter squash mexican style</td>\n",
              "      <td>acorn squash with raisin sauce</td>\n",
              "      <td>6.0</td>\n",
              "    </tr>\n",
              "    <tr>\n",
              "      <th>5</th>\n",
              "      <td>5</td>\n",
              "      <td>0</td>\n",
              "      <td>4184</td>\n",
              "      <td>0.797381</td>\n",
              "      <td>arriba   baked winter squash mexican style</td>\n",
              "      <td>aunt fanny s baked yellow squash</td>\n",
              "      <td>8.0</td>\n",
              "    </tr>\n",
              "    <tr>\n",
              "      <th>6</th>\n",
              "      <td>6</td>\n",
              "      <td>0</td>\n",
              "      <td>4436</td>\n",
              "      <td>0.793161</td>\n",
              "      <td>arriba   baked winter squash mexican style</td>\n",
              "      <td>autumn baked acorn squash</td>\n",
              "      <td>10.0</td>\n",
              "    </tr>\n",
              "    <tr>\n",
              "      <th>7</th>\n",
              "      <td>7</td>\n",
              "      <td>0</td>\n",
              "      <td>5816</td>\n",
              "      <td>0.833334</td>\n",
              "      <td>arriba   baked winter squash mexican style</td>\n",
              "      <td>baked delicata squash with lime butter</td>\n",
              "      <td>2.0</td>\n",
              "    </tr>\n",
              "    <tr>\n",
              "      <th>8</th>\n",
              "      <td>8</td>\n",
              "      <td>0</td>\n",
              "      <td>6352</td>\n",
              "      <td>0.835143</td>\n",
              "      <td>arriba   baked winter squash mexican style</td>\n",
              "      <td>baked spaghetti squash with jalapeno cream</td>\n",
              "      <td>1.0</td>\n",
              "    </tr>\n",
              "    <tr>\n",
              "      <th>9</th>\n",
              "      <td>9</td>\n",
              "      <td>0</td>\n",
              "      <td>7628</td>\n",
              "      <td>0.796396</td>\n",
              "      <td>arriba   baked winter squash mexican style</td>\n",
              "      <td>barefoot contessa s butternut squash risotto</td>\n",
              "      <td>9.0</td>\n",
              "    </tr>\n",
              "    <tr>\n",
              "      <th>10</th>\n",
              "      <td>10</td>\n",
              "      <td>1</td>\n",
              "      <td>289</td>\n",
              "      <td>0.847701</td>\n",
              "      <td>a bit different  breakfast pizza</td>\n",
              "      <td>make ahead  flaky sausage foldovers</td>\n",
              "      <td>8.0</td>\n",
              "    </tr>\n",
              "  </tbody>\n",
              "</table>\n",
              "</div>"
            ],
            "text/plain": [
              "    Unnamed: 0  ...  similarity_rank\n",
              "0            0  ...              3.0\n",
              "1            1  ...              4.0\n",
              "2            2  ...              7.0\n",
              "3            3  ...              5.0\n",
              "4            4  ...              6.0\n",
              "5            5  ...              8.0\n",
              "6            6  ...             10.0\n",
              "7            7  ...              2.0\n",
              "8            8  ...              1.0\n",
              "9            9  ...              9.0\n",
              "10          10  ...              8.0\n",
              "\n",
              "[11 rows x 7 columns]"
            ]
          },
          "metadata": {
            "tags": []
          },
          "execution_count": 16
        }
      ]
    },
    {
      "cell_type": "code",
      "metadata": {
        "id": "JFzuCsFbggyY"
      },
      "source": [
        ""
      ],
      "execution_count": 18,
      "outputs": []
    },
    {
      "cell_type": "code",
      "metadata": {
        "id": "aoBgkyMbggyZ"
      },
      "source": [
        ""
      ],
      "execution_count": null,
      "outputs": []
    },
    {
      "cell_type": "code",
      "metadata": {
        "id": "61OuaZorggya"
      },
      "source": [
        ""
      ],
      "execution_count": null,
      "outputs": []
    }
  ]
}